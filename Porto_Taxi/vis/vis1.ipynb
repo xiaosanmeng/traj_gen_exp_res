{
 "cells": [
  {
   "cell_type": "markdown",
   "metadata": {},
   "source": [
    "绘制真实数据与生成数据的距离分布差异"
   ]
  },
  {
   "cell_type": "code",
   "execution_count": 1,
   "metadata": {},
   "outputs": [],
   "source": [
    "import json\n",
    "import pickle\n",
    "from tqdm import tqdm\n",
    "import pandas as pd\n",
    "import numpy as np\n",
    "import seaborn as sns\n",
    "import matplotlib.pyplot as plt\n",
    "from shapely.geometry import LineString\n",
    "from geopy import distance\n",
    "\n",
    "sns.set_theme()"
   ]
  },
  {
   "cell_type": "code",
   "execution_count": 2,
   "metadata": {},
   "outputs": [
    {
     "name": "stderr",
     "output_type": "stream",
     "text": [
      "100%|██████████| 2000/2000 [00:09<00:00, 213.74it/s]\n",
      "100%|██████████| 2000/2000 [00:09<00:00, 210.50it/s]\n"
     ]
    }
   ],
   "source": [
    "geo = pd.read_csv('../../../traj_gen_exp_porto/data/Porto_Taxi/cleaned-data/roadmap.cleaned.geo')\n",
    "real = pd.read_csv('../../../traj_gen_exp_porto/data/Porto_Taxi/cleaned-data/traj_tes_10000_random.cleaned.csv')\n",
    "gene = pd.read_csv('../gene/new_gene_one_softmax/new_gene_one_softmax_seed0_2024-04-13_10-08-34.csv')\n",
    "with open('../../../traj_gen_exp_porto/data/Porto_Taxi/ts_trajgen-output/partition/rid2small_region.pkl', 'rb') as file:\n",
    "    rid2small_region = pickle.load(file)\n",
    "with open('../../../traj_gen_exp_porto/data/Porto_Taxi/ts_trajgen-output/partition/small_region2rid.pkl', 'rb') as file:\n",
    "    small_region2rid = pickle.load(file)\n",
    "\n",
    "road_gps = []\n",
    "for i, row in geo.iterrows():\n",
    "    coordinates = eval(row['coordinates'])\n",
    "    road_line = LineString(coordinates=coordinates)\n",
    "    center_coord = road_line.centroid\n",
    "    center_lon, center_lat = center_coord.x, center_coord.y\n",
    "    road_gps.append((center_lon, center_lat))\n",
    "\n",
    "real_distance = []\n",
    "gene_distance = []\n",
    "\n",
    "for _, row in tqdm(real.iterrows(), total=len(real)):\n",
    "    rid_list = eval(row['rid_list'])\n",
    "    travel_distance = 0\n",
    "    for i in range(1, len(rid_list)):\n",
    "        travel_distance += distance.distance((road_gps[rid_list[i-1]][1], road_gps[rid_list[i-1]][0]), (road_gps[rid_list[i]][1], road_gps[rid_list[i]][0])).kilometers\n",
    "    real_distance.append(travel_distance)\n",
    "\n",
    "for _, row in tqdm(gene.iterrows(), total=len(gene)):\n",
    "    rid_list = eval(row['rid_list'])\n",
    "    travel_distance = 0\n",
    "    for i in range(1, len(rid_list)):\n",
    "        travel_distance += distance.distance((road_gps[rid_list[i-1]][1], road_gps[rid_list[i-1]][0]), (road_gps[rid_list[i]][1], road_gps[rid_list[i]][0])).kilometers\n",
    "    gene_distance.append(travel_distance)\n",
    "\n",
    "real_distance = np.array(real_distance)\n",
    "gene_distance = np.array(gene_distance)"
   ]
  },
  {
   "cell_type": "code",
   "execution_count": 3,
   "metadata": {},
   "outputs": [
    {
     "data": {
      "image/png": "[encoded data removed]",
      "text/plain": [
       "<Figure size 640x480 with 1 Axes>"
      ]
     },
     "metadata": {},
     "output_type": "display_data"
    }
   ],
   "source": [
    "plt.hist([real_distance, gene_distance], label=['real', 'gen'])\n",
    "\n",
    "plt.legend()\n",
    "plt.show()"
   ]
  },
  {
   "cell_type": "code",
   "execution_count": 4,
   "metadata": {},
   "outputs": [
    {
     "data": {
      "text/plain": [
       "343"
      ]
     },
     "execution_count": 4,
     "metadata": {},
     "output_type": "execute_result"
    }
   ],
   "source": [
    "np.argmax(gene_distance - real_distance)"
   ]
  },
  {
   "cell_type": "code",
   "execution_count": 5,
   "metadata": {},
   "outputs": [
    {
     "name": "stdout",
     "output_type": "stream",
     "text": [
      "4.539365055856427\n",
      "12.884332834127191\n"
     ]
    }
   ],
   "source": [
    "print(real_distance[343])\n",
    "print(gene_distance[343])"
   ]
  },
  {
   "cell_type": "markdown",
   "metadata": {},
   "source": [
    "分析下生成数据和真实数据差在哪里了"
   ]
  },
  {
   "cell_type": "code",
   "execution_count": 6,
   "metadata": {},
   "outputs": [],
   "source": [
    "problem_real_rid_list = list(eval(real.loc[343, 'rid_list']))\n",
    "problem_gene_rid_list = eval(gene.loc[343, 'rid_list'])\n",
    "\n",
    "problem_real_region_list = [rid2small_region[problem_real_rid_list[0]]]\n",
    "problem_gene_region_list = [rid2small_region[problem_gene_rid_list[0]]]\n",
    "\n",
    "for i in range(1, len(problem_real_rid_list)):\n",
    "    region = rid2small_region[problem_real_rid_list[i]]\n",
    "    if region != problem_real_region_list[-1]:\n",
    "        problem_real_region_list.append(region)\n",
    "\n",
    "for i in range(1, len(problem_gene_rid_list)):\n",
    "    region = rid2small_region[problem_gene_rid_list[i]]\n",
    "    if region != problem_gene_region_list[-1]:\n",
    "        problem_gene_region_list.append(region)"
   ]
  },
  {
   "cell_type": "code",
   "execution_count": 7,
   "metadata": {},
   "outputs": [
    {
     "name": "stdout",
     "output_type": "stream",
     "text": [
      "problem_real_rid_list: [3364, 1144, 698, 707, 2353, 8429, 6973, 705, 62, 7241, 6740, 7792, 710, 712, 750, 1660, 7727, 748, 7729, 7415, 6728, 715, 36, 8452, 814, 8212, 756, 8237, 8725, 7669, 8717, 924, 1036, 3328, 7874, 5465, 737, 740, 744, 8439, 7842, 841, 9034, 843, 6971, 844, 8704, 967, 957, 2135, 4649, 4654, 4660, 1962, 1959, 8601, 5621]\n",
      "problem_real_rid_list len: 57\n",
      "problem_gene_rid_list: [3364, 1144, 697, 5078, 687, 692, 694, 6991, 5651, 5653, 8205, 784, 783, 782, 3409, 780, 778, 8963, 8965, 10037, 5355, 134, 5075, 10100, 5079, 130, 2091, 605, 629, 631, 607, 608, 8226, 619, 128, 8224, 2024, 8220, 125, 7, 2123, 12, 10196, 2151, 2152, 4771, 2155, 2195, 2178, 2181, 2187, 2191, 2167, 6024, 6006, 5993, 9122, 5982, 5979, 10228, 2210, 10932, 10929, 10024, 10317, 2149, 4710, 10236, 10235, 10232, 5620, 10147, 10148, 5623, 5621]\n",
      "problem_gene_rid_list len: 75\n",
      "problem_real_region_list: [642, 448, 437, 424, 414, 397, 238]\n",
      "problem_real_region_list len: 7\n",
      "problem_gene_region_list: [642, 641, 638, 637, 630, 629, 627, 626, 625, 620, 619, 296, 295, 285, 278, 277, 165, 164, 163, 162, 158, 124, 67, 50, 49, 238]\n",
      "problem_gene_region_list len: 26\n"
     ]
    }
   ],
   "source": [
    "print(f'problem_real_rid_list: {problem_real_rid_list}')\n",
    "print(f'problem_real_rid_list len: {len(problem_real_rid_list)}')\n",
    "print(f'problem_gene_rid_list: {problem_gene_rid_list}')\n",
    "print(f'problem_gene_rid_list len: {len(problem_gene_rid_list)}')\n",
    "\n",
    "print(f'problem_real_region_list: {problem_real_region_list}')\n",
    "print(f'problem_real_region_list len: {len(problem_real_region_list)}')\n",
    "print(f'problem_gene_region_list: {problem_gene_region_list}')\n",
    "print(f'problem_gene_region_list len: {len(problem_gene_region_list)}')"
   ]
  },
  {
   "cell_type": "code",
   "execution_count": 8,
   "metadata": {},
   "outputs": [],
   "source": [
    "# 可视化road级别上真实数据和生成数据的差异\n",
    "vis_data_1 = dict()\n",
    "vis_data_1['real'] = []\n",
    "vis_data_1['gene'] = []\n",
    "\n",
    "for rid in problem_real_rid_list:\n",
    "    coordinates = eval(geo.loc[rid, 'coordinates'])\n",
    "    for i in range(len(coordinates)):\n",
    "        coordinates[i] = coordinates[i][::-1]\n",
    "    vis_data_1['real'].append(coordinates)\n",
    "\n",
    "for rid in problem_gene_rid_list:\n",
    "    coordinates = eval(geo.loc[rid, 'coordinates'])\n",
    "    for i in range(len(coordinates)):\n",
    "        coordinates[i] = coordinates[i][::-1]\n",
    "    vis_data_1['gene'].append(coordinates)\n",
    "\n",
    "# 可视化region级别的真实数据轨迹\n",
    "vis_data_2 = []\n",
    "\n",
    "for region in problem_real_region_list:\n",
    "    region_coordinates = []\n",
    "    for rid in small_region2rid[region]:\n",
    "        coordinates = eval(geo.loc[rid, 'coordinates'])\n",
    "        for i in range(len(coordinates)):\n",
    "            coordinates[i] = coordinates[i][::-1]\n",
    "        region_coordinates.append(coordinates)\n",
    "    vis_data_2.append(region_coordinates)\n",
    "\n",
    "# 可视化region级别的生成数据轨迹\n",
    "vis_data_3 = []\n",
    "\n",
    "for region in problem_gene_region_list:\n",
    "    region_coordinates = []\n",
    "    for rid in small_region2rid[region]:\n",
    "        coordinates = eval(geo.loc[rid, 'coordinates'])\n",
    "        for i in range(len(coordinates)):\n",
    "            coordinates[i] = coordinates[i][::-1]\n",
    "        region_coordinates.append(coordinates)\n",
    "    vis_data_3.append(region_coordinates)\n",
    "\n",
    "with open('./vis1_1.json', 'w') as file:\n",
    "    json.dump(vis_data_1, file)\n",
    "with open('./vis1_2.json', 'w') as file:\n",
    "    json.dump(vis_data_2, file)\n",
    "with open('./vis1_3.json', 'w') as file:\n",
    "    json.dump(vis_data_3, file)"
   ]
  },
  {
   "cell_type": "code",
   "execution_count": 9,
   "metadata": {},
   "outputs": [
    {
     "name": "stdout",
     "output_type": "stream",
     "text": [
      "problem_real_region_list: [642, 448, 437, 424, 414, 397, 238]\n",
      "problem_real_region_list len: 7\n",
      "problem_gene_region_list: [642, 641, 638, 637, 630, 629, 627, 626, 625, 620, 619, 296, 295, 285, 278, 277, 165, 164, 163, 162, 158, 124, 67, 50, 49, 238]\n",
      "problem_gene_region_list len: 26\n"
     ]
    }
   ],
   "source": [
    "print(f'problem_real_region_list: {problem_real_region_list}')\n",
    "print(f'problem_real_region_list len: {len(problem_real_region_list)}')\n",
    "print(f'problem_gene_region_list: {problem_gene_region_list}')\n",
    "print(f'problem_gene_region_list len: {len(problem_gene_region_list)}')"
   ]
  },
  {
   "cell_type": "code",
   "execution_count": 10,
   "metadata": {},
   "outputs": [
    {
     "name": "stdout",
     "output_type": "stream",
     "text": [
      "203 180 1 176 1 203 181 \n",
      "203 1 1 1 1 26 1 1 1 1 1 1 1 131 1 1 1 1 1 1 1 1 1 1 184 181 \n"
     ]
    }
   ],
   "source": [
    "for region in problem_real_region_list:\n",
    "    print(len(small_region2rid[region]), end=' ')\n",
    "print()\n",
    "\n",
    "for region in problem_gene_region_list:\n",
    "    print(len(small_region2rid[region]), end=' ')\n",
    "print()"
   ]
  }
 ],
 "metadata": {
  "kernelspec": {
   "display_name": "pytorch",
   "language": "python",
   "name": "python3"
  },
  "language_info": {
   "codemirror_mode": {
    "name": "ipython",
    "version": 3
   },
   "file_extension": ".py",
   "mimetype": "text/x-python",
   "name": "python",
   "nbconvert_exporter": "python",
   "pygments_lexer": "ipython3",
   "version": "3.9.18"
  }
 },
 "nbformat": 4,
 "nbformat_minor": 2
}
