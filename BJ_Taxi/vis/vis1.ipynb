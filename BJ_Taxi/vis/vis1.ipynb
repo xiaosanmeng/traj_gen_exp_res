{
 "cells": [
  {
   "cell_type": "markdown",
   "metadata": {},
   "source": [
    "绘制真实数据与生成数据的距离分布差异"
   ]
  },
  {
   "cell_type": "code",
   "execution_count": 1,
   "metadata": {},
   "outputs": [],
   "source": [
    "import json\n",
    "import pickle\n",
    "from tqdm import tqdm\n",
    "import pandas as pd\n",
    "import numpy as np\n",
    "import seaborn as sns\n",
    "import matplotlib.pyplot as plt\n",
    "from shapely.geometry import LineString\n",
    "from geopy import distance\n",
    "\n",
    "sns.set_theme()"
   ]
  },
  {
   "cell_type": "code",
   "execution_count": 2,
   "metadata": {},
   "outputs": [
    {
     "name": "stderr",
     "output_type": "stream",
     "text": [
      "100%|██████████| 2000/2000 [00:06<00:00, 290.98it/s]\n",
      "100%|██████████| 2000/2000 [00:08<00:00, 222.99it/s]\n"
     ]
    }
   ],
   "source": [
    "geo = pd.read_csv('../../../traj_gen_exp_bj/data/BJ_Taxi/cleaned-data/roadmap.cleaned.geo')\n",
    "real = pd.read_csv('../../../traj_gen_exp_bj/data/BJ_Taxi/cleaned-data/traj_tes_10000_random.cleaned.csv')\n",
    "gene = pd.read_csv('../gene/new_gene_one_softmax/new_gene_one_softmax_seed0_2024-04-15_09-12-38.csv')\n",
    "with open('../../../traj_gen_exp_bj/data/BJ_Taxi/ts_trajgen-output/partition/rid2small_region.pkl', 'rb') as file:\n",
    "    rid2small_region = pickle.load(file)\n",
    "with open('../../../traj_gen_exp_bj/data/BJ_Taxi/ts_trajgen-output/partition/small_region2rid.pkl', 'rb') as file:\n",
    "    small_region2rid = pickle.load(file)\n",
    "\n",
    "road_gps = []\n",
    "for i, row in geo.iterrows():\n",
    "    coordinates = eval(row['coordinates'])\n",
    "    road_line = LineString(coordinates=coordinates)\n",
    "    center_coord = road_line.centroid\n",
    "    center_lon, center_lat = center_coord.x, center_coord.y\n",
    "    road_gps.append((center_lon, center_lat))\n",
    "\n",
    "real_distance = []\n",
    "gene_distance = []\n",
    "\n",
    "for _, row in tqdm(real.iterrows(), total=len(real)):\n",
    "    rid_list = eval(row['rid_list'])\n",
    "    travel_distance = 0\n",
    "    for i in range(1, len(rid_list)):\n",
    "        travel_distance += distance.distance((road_gps[rid_list[i-1]][1], road_gps[rid_list[i-1]][0]), (road_gps[rid_list[i]][1], road_gps[rid_list[i]][0])).kilometers\n",
    "    real_distance.append(travel_distance)\n",
    "\n",
    "for _, row in tqdm(gene.iterrows(), total=len(gene)):\n",
    "    rid_list = eval(row['rid_list'])\n",
    "    travel_distance = 0\n",
    "    for i in range(1, len(rid_list)):\n",
    "        travel_distance += distance.distance((road_gps[rid_list[i-1]][1], road_gps[rid_list[i-1]][0]), (road_gps[rid_list[i]][1], road_gps[rid_list[i]][0])).kilometers\n",
    "    gene_distance.append(travel_distance)\n",
    "\n",
    "real_distance = np.array(real_distance)\n",
    "gene_distance = np.array(gene_distance)"
   ]
  },
  {
   "cell_type": "code",
   "execution_count": 3,
   "metadata": {},
   "outputs": [
    {
     "data": {
      "image/png": "[encoded data removed]",
      "text/plain": [
       "<Figure size 640x480 with 1 Axes>"
      ]
     },
     "metadata": {},
     "output_type": "display_data"
    }
   ],
   "source": [
    "plt.hist([real_distance, gene_distance], label=['real', 'gen'])\n",
    "\n",
    "plt.legend()\n",
    "plt.show()"
   ]
  },
  {
   "cell_type": "code",
   "execution_count": 4,
   "metadata": {},
   "outputs": [
    {
     "data": {
      "text/plain": [
       "659"
      ]
     },
     "execution_count": 4,
     "metadata": {},
     "output_type": "execute_result"
    }
   ],
   "source": [
    "np.argmax(gene_distance - real_distance)"
   ]
  },
  {
   "cell_type": "code",
   "execution_count": 5,
   "metadata": {},
   "outputs": [
    {
     "name": "stdout",
     "output_type": "stream",
     "text": [
      "11.917607074490476\n",
      "26.180158325696656\n"
     ]
    }
   ],
   "source": [
    "print(real_distance[659])\n",
    "print(gene_distance[659])"
   ]
  },
  {
   "cell_type": "markdown",
   "metadata": {},
   "source": [
    "分析下生成数据和真实数据差在哪里了"
   ]
  },
  {
   "cell_type": "code",
   "execution_count": 6,
   "metadata": {},
   "outputs": [],
   "source": [
    "problem_real_rid_list = list(eval(real.loc[659, 'rid_list']))\n",
    "problem_gene_rid_list = eval(gene.loc[659, 'rid_list'])\n",
    "\n",
    "problem_real_region_list = [rid2small_region[problem_real_rid_list[0]]]\n",
    "problem_gene_region_list = [rid2small_region[problem_gene_rid_list[0]]]\n",
    "\n",
    "for i in range(1, len(problem_real_rid_list)):\n",
    "    region = rid2small_region[problem_real_rid_list[i]]\n",
    "    if region != problem_real_region_list[-1]:\n",
    "        problem_real_region_list.append(region)\n",
    "\n",
    "for i in range(1, len(problem_gene_rid_list)):\n",
    "    region = rid2small_region[problem_gene_rid_list[i]]\n",
    "    if region != problem_gene_region_list[-1]:\n",
    "        problem_gene_region_list.append(region)"
   ]
  },
  {
   "cell_type": "code",
   "execution_count": 7,
   "metadata": {},
   "outputs": [
    {
     "name": "stdout",
     "output_type": "stream",
     "text": [
      "problem_real_rid_list: [1524, 1531, 1525, 1528, 14016, 34911, 38284, 38287, 39387, 1791, 3698, 1008, 25109, 1799, 882, 26993, 19034, 3011, 3010, 18975, 39028, 18970, 7988, 884, 1095, 885, 4462, 39115, 5161, 2596, 23446, 30586, 30583, 30579, 23442, 3050, 3044, 1011, 3707, 1958, 16873, 16870, 2954, 6564, 16862, 17470, 28230, 28235, 28240, 30287, 17454, 17453, 17451, 17447, 29281, 25332]\n",
      "problem_real_rid_list len: 56\n",
      "problem_gene_rid_list: [1524, 1531, 1525, 1528, 14016, 34911, 38284, 38287, 39387, 1791, 3698, 1010, 17402, 1470, 38636, 4643, 11322, 4875, 4647, 2605, 25107, 11429, 2601, 5247, 1472, 14264, 14266, 2509, 14293, 4890, 1877, 601, 23284, 23286, 2165, 2164, 7267, 25126, 23788, 4913, 14324, 1879, 4895, 4897, 14272, 4448, 4658, 33367, 1862, 1868, 20896, 33537, 33522, 20893, 33501, 34601, 19388, 19382, 26657, 3126, 26655, 26654, 19380, 19378, 21420, 1366, 24790, 24788, 24785, 24780, 24777, 21347, 1363, 8926, 22966, 8929, 8930, 21343, 21340, 27475, 27473, 21334, 21333, 3443, 24843, 3464, 1306, 3451, 1301, 36393, 36399, 36405, 3514, 36964, 3512, 17501, 17499, 17496, 25327, 25332]\n",
      "problem_gene_rid_list len: 100\n",
      "problem_real_region_list: [2155, 2182, 2179, 2172, 2162, 1907, 1888, 1851, 1847, 1261, 1946, 1938]\n",
      "problem_real_region_list len: 12\n",
      "problem_gene_region_list: [2155, 2172, 1920, 1907, 1895, 1892, 1688, 1677, 1938]\n",
      "problem_gene_region_list len: 9\n"
     ]
    }
   ],
   "source": [
    "print(f'problem_real_rid_list: {problem_real_rid_list}')\n",
    "print(f'problem_real_rid_list len: {len(problem_real_rid_list)}')\n",
    "print(f'problem_gene_rid_list: {problem_gene_rid_list}')\n",
    "print(f'problem_gene_rid_list len: {len(problem_gene_rid_list)}')\n",
    "\n",
    "print(f'problem_real_region_list: {problem_real_region_list}')\n",
    "print(f'problem_real_region_list len: {len(problem_real_region_list)}')\n",
    "print(f'problem_gene_region_list: {problem_gene_region_list}')\n",
    "print(f'problem_gene_region_list len: {len(problem_gene_region_list)}')"
   ]
  },
  {
   "cell_type": "code",
   "execution_count": 8,
   "metadata": {},
   "outputs": [],
   "source": [
    "# 可视化road级别上真实数据和生成数据的差异\n",
    "vis_data_1 = dict()\n",
    "vis_data_1['real'] = []\n",
    "vis_data_1['gene'] = []\n",
    "\n",
    "for rid in problem_real_rid_list:\n",
    "    coordinates = eval(geo.loc[rid, 'coordinates'])\n",
    "    for i in range(len(coordinates)):\n",
    "        coordinates[i] = coordinates[i][::-1]\n",
    "    vis_data_1['real'].append(coordinates)\n",
    "\n",
    "for rid in problem_gene_rid_list:\n",
    "    coordinates = eval(geo.loc[rid, 'coordinates'])\n",
    "    for i in range(len(coordinates)):\n",
    "        coordinates[i] = coordinates[i][::-1]\n",
    "    vis_data_1['gene'].append(coordinates)\n",
    "\n",
    "# 可视化region级别的真实数据轨迹\n",
    "vis_data_2 = []\n",
    "\n",
    "for region in problem_real_region_list:\n",
    "    region_coordinates = []\n",
    "    for rid in small_region2rid[region]:\n",
    "        coordinates = eval(geo.loc[rid, 'coordinates'])\n",
    "        for i in range(len(coordinates)):\n",
    "            coordinates[i] = coordinates[i][::-1]\n",
    "        region_coordinates.append(coordinates)\n",
    "    vis_data_2.append(region_coordinates)\n",
    "\n",
    "# 可视化region级别的生成数据轨迹\n",
    "vis_data_3 = []\n",
    "\n",
    "for region in problem_gene_region_list:\n",
    "    region_coordinates = []\n",
    "    for rid in small_region2rid[region]:\n",
    "        coordinates = eval(geo.loc[rid, 'coordinates'])\n",
    "        for i in range(len(coordinates)):\n",
    "            coordinates[i] = coordinates[i][::-1]\n",
    "        region_coordinates.append(coordinates)\n",
    "    vis_data_3.append(region_coordinates)\n",
    "\n",
    "with open('./vis1_1.json', 'w') as file:\n",
    "    json.dump(vis_data_1, file)\n",
    "with open('./vis1_2.json', 'w') as file:\n",
    "    json.dump(vis_data_2, file)\n",
    "with open('./vis1_3.json', 'w') as file:\n",
    "    json.dump(vis_data_3, file)"
   ]
  },
  {
   "cell_type": "code",
   "execution_count": 9,
   "metadata": {},
   "outputs": [
    {
     "name": "stdout",
     "output_type": "stream",
     "text": [
      "problem_real_region_list: [2155, 2182, 2179, 2172, 2162, 1907, 1888, 1851, 1847, 1261, 1946, 1938]\n",
      "problem_real_region_list len: 12\n",
      "problem_gene_region_list: [2155, 2172, 1920, 1907, 1895, 1892, 1688, 1677, 1938]\n",
      "problem_gene_region_list len: 9\n"
     ]
    }
   ],
   "source": [
    "print(f'problem_real_region_list: {problem_real_region_list}')\n",
    "print(f'problem_real_region_list len: {len(problem_real_region_list)}')\n",
    "print(f'problem_gene_region_list: {problem_gene_region_list}')\n",
    "print(f'problem_gene_region_list len: {len(problem_gene_region_list)}')"
   ]
  },
  {
   "cell_type": "code",
   "execution_count": 10,
   "metadata": {},
   "outputs": [
    {
     "name": "stdout",
     "output_type": "stream",
     "text": [
      "818 1 1 798 1 773 1 593 1 770 1 709 \n",
      "818 798 1 773 1 1 781 1 709 \n"
     ]
    }
   ],
   "source": [
    "for region in problem_real_region_list:\n",
    "    print(len(small_region2rid[region]), end=' ')\n",
    "print()\n",
    "\n",
    "for region in problem_gene_region_list:\n",
    "    print(len(small_region2rid[region]), end=' ')\n",
    "print()"
   ]
  }
 ],
 "metadata": {
  "kernelspec": {
   "display_name": "pytorch",
   "language": "python",
   "name": "python3"
  },
  "language_info": {
   "codemirror_mode": {
    "name": "ipython",
    "version": 3
   },
   "file_extension": ".py",
   "mimetype": "text/x-python",
   "name": "python",
   "nbconvert_exporter": "python",
   "pygments_lexer": "ipython3",
   "version": "3.9.18"
  }
 },
 "nbformat": 4,
 "nbformat_minor": 2
}
